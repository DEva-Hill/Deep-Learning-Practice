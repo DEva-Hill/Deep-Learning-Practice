{
  "cells": [
    {
      "cell_type": "markdown",
      "id": "exposed-avatar",
      "metadata": {
        "id": "exposed-avatar"
      },
      "source": [
        "# MNIST CNN\n",
        "## Following and building upon tutorial: https://keras.io/examples/vision/mnist_convnet/\n",
        "\n",
        "- <b>1. Import Libraries\n",
        "- <b>2. Import Data\n",
        "- <b>3. Process Data</b>\n",
        "    - 3.1 Normalise Data\n",
        "    - 3.2 Explore Data\n",
        "    - 3.3 Encode Target Variable\n",
        "- <b>4. Build Model\n",
        "- <b>5. Train Model\n",
        "- <b>6. Evaluate Model </b>\n",
        "    - 6.1 Confusion Matrix\n",
        "    - 6.2 ROC"
      ]
    },
    {
      "cell_type": "markdown",
      "id": "approved-monroe",
      "metadata": {
        "id": "approved-monroe"
      },
      "source": [
        "## 1. Import Libraries"
      ]
    },
    {
      "cell_type": "code",
      "execution_count": null,
      "id": "historic-absence",
      "metadata": {
        "id": "historic-absence"
      },
      "outputs": [],
      "source": [
        "import numpy as np\n",
        "from tensorflow import keras\n",
        "from tensorflow.keras import layers\n",
        "from sklearn.metrics import confusion_matrix\n",
        "import seaborn as sns\n",
        "import matplotlib.pyplot as plt"
      ]
    },
    {
      "cell_type": "markdown",
      "id": "hearing-columbus",
      "metadata": {
        "id": "hearing-columbus"
      },
      "source": [
        "## 2. Import Data"
      ]
    },
    {
      "cell_type": "code",
      "execution_count": null,
      "id": "public-strand",
      "metadata": {
        "id": "public-strand"
      },
      "outputs": [],
      "source": [
        "(X_train,y_train), (X_test,y_test) = keras.datasets.mnist.load_data()  # Import data"
      ]
    },
    {
      "cell_type": "markdown",
      "id": "monthly-spirituality",
      "metadata": {
        "id": "monthly-spirituality"
      },
      "source": [
        "## 3. Process Data"
      ]
    },
    {
      "cell_type": "markdown",
      "id": "ranging-probe",
      "metadata": {
        "id": "ranging-probe"
      },
      "source": [
        "### 3.1 Normalise Data"
      ]
    },
    {
      "cell_type": "code",
      "execution_count": null,
      "id": "piano-comparative",
      "metadata": {
        "id": "piano-comparative"
      },
      "outputs": [],
      "source": [
        "X_train = X_train.astype(\"float32\")/255   # Scale image values between 0 and 1\n",
        "X_test = X_test.astype(\"float32\")/255   # Scale image values between 0 and 1"
      ]
    },
    {
      "cell_type": "code",
      "execution_count": null,
      "id": "informed-directive",
      "metadata": {
        "id": "informed-directive"
      },
      "outputs": [],
      "source": [
        "X_train = np.expand_dims(X_train, -1)  # Shape the data \n",
        "X_test = np.expand_dims(X_test, -1)  # Shape the data"
      ]
    },
    {
      "cell_type": "markdown",
      "id": "monthly-controversy",
      "metadata": {
        "id": "monthly-controversy"
      },
      "source": [
        "### 3.2 Explore Data"
      ]
    },
    {
      "cell_type": "code",
      "execution_count": null,
      "id": "portable-satisfaction",
      "metadata": {
        "id": "portable-satisfaction",
        "outputId": "53328e74-dbf6-499d-d11b-2b64f254ca35"
      },
      "outputs": [
        {
          "name": "stdout",
          "output_type": "stream",
          "text": [
            "X_train shape: (60000, 28, 28, 1)\n",
            "60000 train samples\n",
            "10000 test samples\n"
          ]
        }
      ],
      "source": [
        "print(\"X_train shape:\", X_train.shape)\n",
        "print(X_train.shape[0], \"train samples\")\n",
        "print(X_test.shape[0], \"test samples\")"
      ]
    },
    {
      "cell_type": "markdown",
      "id": "sealed-african",
      "metadata": {
        "id": "sealed-african"
      },
      "source": [
        "### 3.3 Encode Target Variable"
      ]
    },
    {
      "cell_type": "code",
      "execution_count": null,
      "id": "satellite-armenia",
      "metadata": {
        "id": "satellite-armenia"
      },
      "outputs": [],
      "source": [
        "num_classes = 10\n",
        "y_train = keras.utils.to_categorical(y_train, num_classes)\n",
        "y_test = keras.utils.to_categorical(y_test, num_classes)"
      ]
    },
    {
      "cell_type": "markdown",
      "id": "stopped-engineering",
      "metadata": {
        "id": "stopped-engineering"
      },
      "source": [
        "## 4. Build Model"
      ]
    },
    {
      "cell_type": "code",
      "execution_count": null,
      "id": "vocational-execution",
      "metadata": {
        "id": "vocational-execution"
      },
      "outputs": [],
      "source": [
        "inputshape = (28,28,1)\n",
        "model = keras.Sequential(\n",
        "        [keras.Input(shape = inputshape),\n",
        "        layers.Conv2D(32, kernel_size=(3, 3), activation=\"relu\"),\n",
        "        layers.MaxPooling2D(pool_size=(2, 2)),\n",
        "        layers.Conv2D(64, kernel_size=(3, 3), activation=\"relu\"),\n",
        "        layers.MaxPooling2D(pool_size=(2, 2)),\n",
        "        layers.Flatten(),\n",
        "        layers.Dropout(0.5),\n",
        "        layers.Dense(num_classes, activation=\"softmax\"),])\n"
      ]
    },
    {
      "cell_type": "code",
      "execution_count": null,
      "id": "monthly-kingdom",
      "metadata": {
        "id": "monthly-kingdom",
        "outputId": "69dc34fb-c71b-4de3-b738-53d6cebc5586"
      },
      "outputs": [
        {
          "name": "stdout",
          "output_type": "stream",
          "text": [
            "Model: \"sequential\"\n",
            "_________________________________________________________________\n",
            "Layer (type)                 Output Shape              Param #   \n",
            "=================================================================\n",
            "conv2d (Conv2D)              (None, 26, 26, 32)        320       \n",
            "_________________________________________________________________\n",
            "max_pooling2d (MaxPooling2D) (None, 13, 13, 32)        0         \n",
            "_________________________________________________________________\n",
            "conv2d_1 (Conv2D)            (None, 11, 11, 64)        18496     \n",
            "_________________________________________________________________\n",
            "max_pooling2d_1 (MaxPooling2 (None, 5, 5, 64)          0         \n",
            "_________________________________________________________________\n",
            "flatten (Flatten)            (None, 1600)              0         \n",
            "_________________________________________________________________\n",
            "dropout (Dropout)            (None, 1600)              0         \n",
            "_________________________________________________________________\n",
            "dense (Dense)                (None, 10)                16010     \n",
            "=================================================================\n",
            "Total params: 34,826\n",
            "Trainable params: 34,826\n",
            "Non-trainable params: 0\n",
            "_________________________________________________________________\n"
          ]
        }
      ],
      "source": [
        "model.summary()"
      ]
    },
    {
      "cell_type": "markdown",
      "id": "color-brown",
      "metadata": {
        "id": "color-brown"
      },
      "source": [
        "## 5. Train Model"
      ]
    },
    {
      "cell_type": "code",
      "execution_count": null,
      "id": "waiting-governor",
      "metadata": {
        "id": "waiting-governor",
        "outputId": "43724c50-e405-4778-9603-1c9f71e4da19"
      },
      "outputs": [
        {
          "name": "stdout",
          "output_type": "stream",
          "text": [
            "Epoch 1/15\n",
            "422/422 [==============================] - 22s 53ms/step - loss: 0.3621 - accuracy: 0.8901 - val_loss: 0.0815 - val_accuracy: 0.9775\n",
            "Epoch 2/15\n",
            "422/422 [==============================] - 22s 53ms/step - loss: 0.1093 - accuracy: 0.9667 - val_loss: 0.0585 - val_accuracy: 0.9843\n",
            "Epoch 3/15\n",
            "422/422 [==============================] - 25s 60ms/step - loss: 0.0821 - accuracy: 0.9748 - val_loss: 0.0463 - val_accuracy: 0.9875\n",
            "Epoch 4/15\n",
            "422/422 [==============================] - 24s 56ms/step - loss: 0.0692 - accuracy: 0.9780 - val_loss: 0.0395 - val_accuracy: 0.9890\n",
            "Epoch 5/15\n",
            "422/422 [==============================] - 24s 57ms/step - loss: 0.0609 - accuracy: 0.9818 - val_loss: 0.0384 - val_accuracy: 0.9895\n",
            "Epoch 6/15\n",
            "422/422 [==============================] - 26s 61ms/step - loss: 0.0536 - accuracy: 0.9832 - val_loss: 0.0372 - val_accuracy: 0.9897\n",
            "Epoch 7/15\n",
            "422/422 [==============================] - 26s 61ms/step - loss: 0.0520 - accuracy: 0.9837 - val_loss: 0.0378 - val_accuracy: 0.9890\n",
            "Epoch 8/15\n",
            "422/422 [==============================] - 27s 65ms/step - loss: 0.0488 - accuracy: 0.9839 - val_loss: 0.0336 - val_accuracy: 0.9913\n",
            "Epoch 9/15\n",
            "422/422 [==============================] - 26s 61ms/step - loss: 0.0443 - accuracy: 0.9855 - val_loss: 0.0337 - val_accuracy: 0.9910\n",
            "Epoch 10/15\n",
            "422/422 [==============================] - 31s 73ms/step - loss: 0.0421 - accuracy: 0.9864 - val_loss: 0.0288 - val_accuracy: 0.9920\n",
            "Epoch 11/15\n",
            "422/422 [==============================] - 29s 69ms/step - loss: 0.0386 - accuracy: 0.9878 - val_loss: 0.0329 - val_accuracy: 0.9912\n",
            "Epoch 12/15\n",
            "422/422 [==============================] - 28s 67ms/step - loss: 0.0369 - accuracy: 0.9882 - val_loss: 0.0307 - val_accuracy: 0.9922\n",
            "Epoch 13/15\n",
            "422/422 [==============================] - 28s 67ms/step - loss: 0.0346 - accuracy: 0.9887 - val_loss: 0.0298 - val_accuracy: 0.99130s - loss: 0.0346 - accuracy: 0.98\n",
            "Epoch 14/15\n",
            "422/422 [==============================] - 28s 67ms/step - loss: 0.0331 - accuracy: 0.9890 - val_loss: 0.0287 - val_accuracy: 0.9918\n",
            "Epoch 15/15\n",
            "422/422 [==============================] - 29s 68ms/step - loss: 0.0316 - accuracy: 0.9894 - val_loss: 0.0320 - val_accuracy: 0.9908\n"
          ]
        },
        {
          "data": {
            "text/plain": [
              "<tensorflow.python.keras.callbacks.History at 0x2a016303910>"
            ]
          },
          "execution_count": 11,
          "metadata": {},
          "output_type": "execute_result"
        }
      ],
      "source": [
        "batch_size = 128\n",
        "epochs = 15\n",
        "\n",
        "model.compile(loss=\"categorical_crossentropy\", optimizer=\"adam\", metrics=[\"accuracy\"])\n",
        "\n",
        "model.fit(X_train, y_train, batch_size=batch_size, epochs=epochs, validation_split=0.1)"
      ]
    },
    {
      "cell_type": "markdown",
      "id": "empty-franklin",
      "metadata": {
        "id": "empty-franklin"
      },
      "source": [
        "## 6. Evaluate Model"
      ]
    },
    {
      "cell_type": "code",
      "execution_count": null,
      "id": "positive-specification",
      "metadata": {
        "id": "positive-specification",
        "outputId": "52023968-73f9-4e95-b140-e58d0bb80502"
      },
      "outputs": [
        {
          "name": "stdout",
          "output_type": "stream",
          "text": [
            "313/313 [==============================] - 2s 5ms/step - loss: 0.0246 - accuracy: 0.9920\n"
          ]
        }
      ],
      "source": [
        "score = model.evaluate(X_test, y_test, verbose=1)    # verbose (0, 1 or 2) changes training display"
      ]
    },
    {
      "cell_type": "code",
      "execution_count": null,
      "id": "micro-burke",
      "metadata": {
        "id": "micro-burke",
        "outputId": "90ecfcc9-d259-4dd1-bf8c-c242b66c604d"
      },
      "outputs": [
        {
          "name": "stdout",
          "output_type": "stream",
          "text": [
            "Test loss: 0.02463727816939354\n",
            "Test accuracy: 0.9919999837875366\n"
          ]
        }
      ],
      "source": [
        "print(\"Test loss:\", score[0])\n",
        "print(\"Test accuracy:\", score[1])"
      ]
    },
    {
      "cell_type": "markdown",
      "id": "diagnostic-questionnaire",
      "metadata": {
        "id": "diagnostic-questionnaire"
      },
      "source": [
        "### 6.1 Confusion Matrix\n",
        "#### Confusion matrices can aid in identifying classification model weaknesses"
      ]
    },
    {
      "cell_type": "code",
      "execution_count": null,
      "id": "caroline-series",
      "metadata": {
        "id": "caroline-series",
        "outputId": "7bdd2c2d-adb6-440f-aea7-0b694ce510ce"
      },
      "outputs": [
        {
          "name": "stdout",
          "output_type": "stream",
          "text": [
            "313/313 [==============================] - 2s 5ms/step\n"
          ]
        }
      ],
      "source": [
        "predictions = model.predict(X_test, verbose=1)  # Get predictions"
      ]
    },
    {
      "cell_type": "code",
      "execution_count": null,
      "id": "ranking-ordinary",
      "metadata": {
        "id": "ranking-ordinary"
      },
      "outputs": [],
      "source": [
        "predicted_classes = np.argmax(predictions, axis=1)   # Convert into classes labels (i.e. 1/2/3...)\n",
        "y_test_classes = np.argmax(y_test, axis=1)   # Convert into classes labels (i.e. 1/2/3...)"
      ]
    },
    {
      "cell_type": "code",
      "execution_count": null,
      "id": "normal-oklahoma",
      "metadata": {
        "id": "normal-oklahoma"
      },
      "outputs": [],
      "source": [
        "confusion = confusion_matrix(y_test_classes, predicted_classes)    # Create confusion matrix"
      ]
    },
    {
      "cell_type": "code",
      "execution_count": null,
      "id": "passive-assault",
      "metadata": {
        "id": "passive-assault",
        "outputId": "f658e9ba-c9d5-493b-db38-4ca07ff18d7f"
      },
      "outputs": [
        {
          "data": {
            "image/png": "[encoded data removed]",
            "text/plain": [
              "<Figure size 720x720 with 1 Axes>"
            ]
          },
          "metadata": {
            "needs_background": "light"
          },
          "output_type": "display_data"
        }
      ],
      "source": [
        "# Plot confusion matrix\n",
        "fig = plt.figure(figsize=(10,10))\n",
        "\n",
        "sns.heatmap(confusion,annot=True,cbar=False,square=True,cmap=plt.cm.Greens)\n",
        "plt.xlabel('Predicted Class')\n",
        "plt.ylabel('True Class')\n",
        "plt.show()"
      ]
    },
    {
      "cell_type": "markdown",
      "id": "individual-rouge",
      "metadata": {
        "id": "individual-rouge"
      },
      "source": [
        "<i> Confusion matrix shows that numbers that get confused the most are [2,7] and [4,9], closely followed by [0,6] and [3,5]. Althought there are very few cases where this occurs, the ability to differentiate between these pairs of numbers should be enhanced to increase models performance.</i>"
      ]
    },
    {
      "cell_type": "markdown",
      "id": "metric-earthquake",
      "metadata": {
        "id": "metric-earthquake"
      },
      "source": [
        "### 6.2 ROC (Receiver Operating Characteristic)\n",
        "#### We can us a 'OneVsAll' method to analyse multi-classification models performance"
      ]
    },
    {
      "cell_type": "code",
      "execution_count": 7,
      "id": "proof-assist",
      "metadata": {
        "id": "proof-assist",
        "outputId": "741be02c-d58d-4e9f-f7e5-86593c72db4b",
        "colab": {
          "base_uri": "https://localhost:8080/"
        }
      },
      "outputs": [
        {
          "output_type": "stream",
          "name": "stdout",
          "text": [
            "Yes\n"
          ]
        }
      ],
      "source": [
        "list1 = ['Yes','No']\n",
        "\n",
        "for i,x in enumerate(list1):\n",
        "  if i == 0:\n",
        "    print(x)\n",
        "  else:\n",
        "    pass"
      ]
    }
  ],
  "metadata": {
    "kernelspec": {
      "display_name": "Python 3",
      "language": "python",
      "name": "python3"
    },
    "language_info": {
      "codemirror_mode": {
        "name": "ipython",
        "version": 3
      },
      "file_extension": ".py",
      "mimetype": "text/x-python",
      "name": "python",
      "nbconvert_exporter": "python",
      "pygments_lexer": "ipython3",
      "version": "3.8.8"
    },
    "colab": {
      "name": "Simple_MNIST_CNN.ipynb",
      "provenance": []
    }
  },
  "nbformat": 4,
  "nbformat_minor": 5
}