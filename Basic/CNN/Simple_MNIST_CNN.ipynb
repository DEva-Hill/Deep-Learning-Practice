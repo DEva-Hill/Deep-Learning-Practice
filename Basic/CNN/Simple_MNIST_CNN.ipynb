{
  "cells": [
    {
      "cell_type": "markdown",
      "id": "exposed-avatar",
      "metadata": {
        "id": "exposed-avatar"
      },
      "source": [
        "# MNIST CNN\n",
        "## Following and building upon tutorial: https://keras.io/examples/vision/mnist_convnet/\n",
        "\n",
        "- <b>1. Import Libraries\n",
        "- <b>2. Import Data\n",
        "- <b>3. Process Data</b>\n",
        "    - 3.1 Normalise Data\n",
        "    - 3.2 Explore Data\n",
        "    - 3.3 Encode Target Variable\n",
        "- <b>4. Build Model\n",
        "- <b>5. Train Model\n",
        "- <b>6. Evaluate Model </b>\n",
        "    - 6.1 Confusion Matrix\n",
        "    - 6.2 ROC"
      ]
    },
    {
      "cell_type": "markdown",
      "id": "approved-monroe",
      "metadata": {
        "id": "approved-monroe"
      },
      "source": [
        "## 1. Import Libraries"
      ]
    },
    {
      "cell_type": "code",
      "execution_count": null,
      "id": "historic-absence",
      "metadata": {
        "id": "historic-absence"
      },
      "outputs": [],
      "source": [
        "import numpy as np\n",
        "from tensorflow import keras\n",
        "from tensorflow.keras import layers\n",
        "from sklearn.metrics import confusion_matrix\n",
        "import seaborn as sns\n",
        "import matplotlib.pyplot as plt"
      ]
    },
    {
      "cell_type": "markdown",
      "id": "hearing-columbus",
      "metadata": {
        "id": "hearing-columbus"
      },
      "source": [
        "## 2. Import Data"
      ]
    },
    {
      "cell_type": "code",
      "execution_count": null,
      "id": "public-strand",
      "metadata": {
        "id": "public-strand",
        "outputId": "5d347704-5072-44c3-ad2f-8969d5f8fa65",
        "colab": {
          "base_uri": "https://localhost:8080/"
        }
      },
      "outputs": [
        {
          "output_type": "stream",
          "name": "stdout",
          "text": [
            "Downloading data from https://storage.googleapis.com/tensorflow/tf-keras-datasets/mnist.npz\n",
            "11493376/11490434 [==============================] - 0s 0us/step\n",
            "11501568/11490434 [==============================] - 0s 0us/step\n"
          ]
        }
      ],
      "source": [
        "(X_train,y_train), (X_test,y_test) = keras.datasets.mnist.load_data()  # Import data"
      ]
    },
    {
      "cell_type": "markdown",
      "id": "monthly-spirituality",
      "metadata": {
        "id": "monthly-spirituality"
      },
      "source": [
        "## 3. Process Data"
      ]
    },
    {
      "cell_type": "markdown",
      "id": "ranging-probe",
      "metadata": {
        "id": "ranging-probe"
      },
      "source": [
        "### 3.1 Normalise Data"
      ]
    },
    {
      "cell_type": "code",
      "execution_count": null,
      "id": "piano-comparative",
      "metadata": {
        "id": "piano-comparative"
      },
      "outputs": [],
      "source": [
        "X_train = X_train.astype(\"float32\")/255   # Scale image values between 0 and 1\n",
        "X_test = X_test.astype(\"float32\")/255   # Scale image values between 0 and 1"
      ]
    },
    {
      "cell_type": "code",
      "execution_count": null,
      "id": "informed-directive",
      "metadata": {
        "id": "informed-directive"
      },
      "outputs": [],
      "source": [
        "X_train = np.expand_dims(X_train, -1)  # Make sure images have shape (28, 28, 1)\n",
        "X_test = np.expand_dims(X_test, -1)  # Make sure images have shape (28, 28, 1)"
      ]
    },
    {
      "cell_type": "markdown",
      "id": "monthly-controversy",
      "metadata": {
        "id": "monthly-controversy"
      },
      "source": [
        "### 3.2 Explore Data"
      ]
    },
    {
      "cell_type": "code",
      "execution_count": null,
      "id": "portable-satisfaction",
      "metadata": {
        "id": "portable-satisfaction",
        "outputId": "f00de6e3-13d9-4079-d5c4-e4f3f521eb49",
        "colab": {
          "base_uri": "https://localhost:8080/"
        }
      },
      "outputs": [
        {
          "output_type": "stream",
          "name": "stdout",
          "text": [
            "X_train shape: (60000, 28, 28, 1)\n",
            "60000 train samples\n",
            "10000 test samples\n"
          ]
        }
      ],
      "source": [
        "print(\"X_train shape:\", X_train.shape)\n",
        "print(X_train.shape[0], \"train samples\")\n",
        "print(X_test.shape[0], \"test samples\")"
      ]
    },
    {
      "cell_type": "markdown",
      "id": "sealed-african",
      "metadata": {
        "id": "sealed-african"
      },
      "source": [
        "### 3.3 Encode Target Variable"
      ]
    },
    {
      "cell_type": "code",
      "execution_count": null,
      "id": "satellite-armenia",
      "metadata": {
        "id": "satellite-armenia"
      },
      "outputs": [],
      "source": [
        "num_classes = 10\n",
        "y_train = keras.utils.to_categorical(y_train, num_classes)\n",
        "y_test = keras.utils.to_categorical(y_test, num_classes)"
      ]
    },
    {
      "cell_type": "markdown",
      "id": "stopped-engineering",
      "metadata": {
        "id": "stopped-engineering"
      },
      "source": [
        "## 4. Build Model"
      ]
    },
    {
      "cell_type": "code",
      "execution_count": null,
      "id": "vocational-execution",
      "metadata": {
        "id": "vocational-execution"
      },
      "outputs": [],
      "source": [
        "inputshape = (28,28,1)\n",
        "model = keras.Sequential(\n",
        "        [keras.Input(shape = inputshape),\n",
        "        layers.Conv2D(32, kernel_size=(3, 3), activation=\"relu\"),\n",
        "        layers.MaxPooling2D(pool_size=(2, 2)),\n",
        "        layers.Conv2D(64, kernel_size=(3, 3), activation=\"relu\"),\n",
        "        layers.MaxPooling2D(pool_size=(2, 2)),\n",
        "        layers.Flatten(),\n",
        "        layers.Dropout(0.5),\n",
        "        layers.Dense(num_classes, activation=\"softmax\"),])\n"
      ]
    },
    {
      "cell_type": "code",
      "execution_count": null,
      "id": "monthly-kingdom",
      "metadata": {
        "id": "monthly-kingdom",
        "outputId": "06efdf55-758c-4c9a-9952-a5781b6ca5e9",
        "colab": {
          "base_uri": "https://localhost:8080/"
        }
      },
      "outputs": [
        {
          "output_type": "stream",
          "name": "stdout",
          "text": [
            "Model: \"sequential\"\n",
            "_________________________________________________________________\n",
            " Layer (type)                Output Shape              Param #   \n",
            "=================================================================\n",
            " conv2d (Conv2D)             (None, 26, 26, 32)        320       \n",
            "                                                                 \n",
            " max_pooling2d (MaxPooling2D  (None, 13, 13, 32)       0         \n",
            " )                                                               \n",
            "                                                                 \n",
            " conv2d_1 (Conv2D)           (None, 11, 11, 64)        18496     \n",
            "                                                                 \n",
            " max_pooling2d_1 (MaxPooling  (None, 5, 5, 64)         0         \n",
            " 2D)                                                             \n",
            "                                                                 \n",
            " flatten (Flatten)           (None, 1600)              0         \n",
            "                                                                 \n",
            " dropout (Dropout)           (None, 1600)              0         \n",
            "                                                                 \n",
            " dense (Dense)               (None, 10)                16010     \n",
            "                                                                 \n",
            "=================================================================\n",
            "Total params: 34,826\n",
            "Trainable params: 34,826\n",
            "Non-trainable params: 0\n",
            "_________________________________________________________________\n"
          ]
        }
      ],
      "source": [
        "model.summary()"
      ]
    },
    {
      "cell_type": "markdown",
      "id": "color-brown",
      "metadata": {
        "id": "color-brown"
      },
      "source": [
        "## 5. Train Model"
      ]
    },
    {
      "cell_type": "code",
      "execution_count": null,
      "id": "waiting-governor",
      "metadata": {
        "id": "waiting-governor",
        "outputId": "f2b93075-8036-47a6-d9ba-11a619f32e3f",
        "colab": {
          "base_uri": "https://localhost:8080/"
        }
      },
      "outputs": [
        {
          "output_type": "stream",
          "name": "stdout",
          "text": [
            "Epoch 1/15\n",
            "422/422 [==============================] - 13s 10ms/step - loss: 0.3596 - accuracy: 0.8911 - val_loss: 0.0791 - val_accuracy: 0.9767\n",
            "Epoch 2/15\n",
            "422/422 [==============================] - 4s 9ms/step - loss: 0.1121 - accuracy: 0.9649 - val_loss: 0.0547 - val_accuracy: 0.9853\n",
            "Epoch 3/15\n",
            "422/422 [==============================] - 4s 9ms/step - loss: 0.0852 - accuracy: 0.9736 - val_loss: 0.0457 - val_accuracy: 0.9875\n",
            "Epoch 4/15\n",
            "422/422 [==============================] - 4s 9ms/step - loss: 0.0742 - accuracy: 0.9772 - val_loss: 0.0420 - val_accuracy: 0.9887\n",
            "Epoch 5/15\n",
            "422/422 [==============================] - 4s 9ms/step - loss: 0.0645 - accuracy: 0.9803 - val_loss: 0.0418 - val_accuracy: 0.9880\n",
            "Epoch 6/15\n",
            "422/422 [==============================] - 4s 10ms/step - loss: 0.0559 - accuracy: 0.9825 - val_loss: 0.0331 - val_accuracy: 0.9920\n",
            "Epoch 7/15\n",
            "422/422 [==============================] - 4s 9ms/step - loss: 0.0539 - accuracy: 0.9834 - val_loss: 0.0338 - val_accuracy: 0.9905\n",
            "Epoch 8/15\n",
            "422/422 [==============================] - 4s 9ms/step - loss: 0.0492 - accuracy: 0.9846 - val_loss: 0.0326 - val_accuracy: 0.9903\n",
            "Epoch 9/15\n",
            "422/422 [==============================] - 4s 9ms/step - loss: 0.0460 - accuracy: 0.9852 - val_loss: 0.0320 - val_accuracy: 0.9910\n",
            "Epoch 10/15\n",
            "422/422 [==============================] - 4s 9ms/step - loss: 0.0430 - accuracy: 0.9863 - val_loss: 0.0298 - val_accuracy: 0.9923\n",
            "Epoch 11/15\n",
            "422/422 [==============================] - 4s 9ms/step - loss: 0.0426 - accuracy: 0.9865 - val_loss: 0.0307 - val_accuracy: 0.9913\n",
            "Epoch 12/15\n",
            "422/422 [==============================] - 4s 9ms/step - loss: 0.0399 - accuracy: 0.9872 - val_loss: 0.0287 - val_accuracy: 0.9920\n",
            "Epoch 13/15\n",
            "422/422 [==============================] - 4s 9ms/step - loss: 0.0380 - accuracy: 0.9881 - val_loss: 0.0298 - val_accuracy: 0.9915\n",
            "Epoch 14/15\n",
            "422/422 [==============================] - 4s 9ms/step - loss: 0.0362 - accuracy: 0.9883 - val_loss: 0.0281 - val_accuracy: 0.9915\n",
            "Epoch 15/15\n",
            "422/422 [==============================] - 4s 9ms/step - loss: 0.0351 - accuracy: 0.9882 - val_loss: 0.0283 - val_accuracy: 0.9925\n"
          ]
        },
        {
          "output_type": "execute_result",
          "data": {
            "text/plain": [
              "<keras.callbacks.History at 0x7fb0300cc990>"
            ]
          },
          "metadata": {},
          "execution_count": 10
        }
      ],
      "source": [
        "batch_size = 128\n",
        "epochs = 15\n",
        "\n",
        "model.compile(loss=\"categorical_crossentropy\", optimizer=\"adam\", metrics=[\"accuracy\"])\n",
        "\n",
        "model.fit(X_train, y_train, batch_size=batch_size, epochs=epochs, validation_split=0.1)"
      ]
    },
    {
      "cell_type": "markdown",
      "id": "empty-franklin",
      "metadata": {
        "id": "empty-franklin"
      },
      "source": [
        "## 6. Evaluate Model"
      ]
    },
    {
      "cell_type": "code",
      "execution_count": null,
      "id": "positive-specification",
      "metadata": {
        "id": "positive-specification",
        "outputId": "f029f808-3f81-477d-e498-59f6c84344b6",
        "colab": {
          "base_uri": "https://localhost:8080/"
        }
      },
      "outputs": [
        {
          "output_type": "stream",
          "name": "stdout",
          "text": [
            "313/313 [==============================] - 1s 4ms/step - loss: 0.0237 - accuracy: 0.9923\n"
          ]
        }
      ],
      "source": [
        "score = model.evaluate(X_test, y_test, verbose=1)    # verbose (0, 1 or 2) changes training display"
      ]
    },
    {
      "cell_type": "code",
      "execution_count": null,
      "id": "micro-burke",
      "metadata": {
        "id": "micro-burke",
        "outputId": "60d0e407-3292-497f-863f-f84a8e98d35b",
        "colab": {
          "base_uri": "https://localhost:8080/"
        }
      },
      "outputs": [
        {
          "output_type": "stream",
          "name": "stdout",
          "text": [
            "Test loss: 0.023713985458016396\n",
            "Test accuracy: 0.9922999739646912\n"
          ]
        }
      ],
      "source": [
        "print(\"Test loss:\", score[0])\n",
        "print(\"Test accuracy:\", score[1])"
      ]
    },
    {
      "cell_type": "markdown",
      "id": "diagnostic-questionnaire",
      "metadata": {
        "id": "diagnostic-questionnaire"
      },
      "source": [
        "### 6.1 Confusion Matrix\n",
        "#### Confusion matrices can aid in identifying classification model weaknesses"
      ]
    },
    {
      "cell_type": "code",
      "execution_count": null,
      "id": "caroline-series",
      "metadata": {
        "id": "caroline-series",
        "outputId": "02b9f6cd-c03f-4c34-a05a-ceb20ecdfd21",
        "colab": {
          "base_uri": "https://localhost:8080/"
        }
      },
      "outputs": [
        {
          "output_type": "stream",
          "name": "stdout",
          "text": [
            "313/313 [==============================] - 1s 2ms/step\n"
          ]
        }
      ],
      "source": [
        "predictions = model.predict(X_test, verbose=1)  # Get predictions"
      ]
    },
    {
      "cell_type": "code",
      "execution_count": null,
      "id": "ranking-ordinary",
      "metadata": {
        "id": "ranking-ordinary"
      },
      "outputs": [],
      "source": [
        "predicted_classes = np.argmax(predictions, axis=1)   # Convert into classes labels (i.e. 1/2/3...)\n",
        "y_test_classes = np.argmax(y_test, axis=1)   # Convert into classes labels (i.e. 1/2/3...)"
      ]
    },
    {
      "cell_type": "code",
      "execution_count": null,
      "id": "normal-oklahoma",
      "metadata": {
        "id": "normal-oklahoma"
      },
      "outputs": [],
      "source": [
        "confusion = confusion_matrix(y_test_classes, predicted_classes)    # Create confusion matrix"
      ]
    },
    {
      "cell_type": "code",
      "execution_count": null,
      "id": "passive-assault",
      "metadata": {
        "id": "passive-assault",
        "outputId": "6159577c-91fc-4fc7-bb0a-1920818a4072",
        "colab": {
          "base_uri": "https://localhost:8080/",
          "height": 606
        }
      },
      "outputs": [
        {
          "output_type": "display_data",
          "data": {
            "image/png": "[encoded data removed]",
            "text/plain": [
              "<Figure size 720x720 with 1 Axes>"
            ]
          },
          "metadata": {
            "needs_background": "light"
          }
        }
      ],
      "source": [
        "# Plot confusion matrix\n",
        "fig = plt.figure(figsize=(10,10))\n",
        "\n",
        "sns.heatmap(confusion,annot=True,cbar=False,square=True,cmap=plt.cm.Greens)\n",
        "plt.xlabel('Predicted Class')\n",
        "plt.ylabel('True Class')\n",
        "plt.show()"
      ]
    },
    {
      "cell_type": "markdown",
      "id": "individual-rouge",
      "metadata": {
        "id": "individual-rouge"
      },
      "source": [
        "<i> Confusion matrix shows that numbers that get confused the most are [2,7] and [4,9], closely followed by [0,6] and [3,5]. Althought there are very few cases where this occurs, the ability to differentiate between these pairs of numbers should be enhanced to increase models performance.</i>"
      ]
    },
    {
      "cell_type": "markdown",
      "id": "metric-earthquake",
      "metadata": {
        "id": "metric-earthquake"
      },
      "source": [
        "### 6.2 ROC (Receiver Operating Characteristic)\n",
        "#### We can us a 'OneVsAll' method to analyse multi-classification models performance"
      ]
    },
    {
      "cell_type": "code",
      "execution_count": null,
      "id": "proof-assist",
      "metadata": {
        "id": "proof-assist",
        "outputId": "3661d045-994b-40e4-bfbb-319b4f59479a",
        "colab": {
          "base_uri": "https://localhost:8080/"
        }
      },
      "outputs": [
        {
          "output_type": "stream",
          "name": "stdout",
          "text": [
            "0.999965174584578\n"
          ]
        }
      ],
      "source": [
        "# Create a ROC graph and calcualte AUC\n",
        "from sklearn.metrics import roc_auc_score\n",
        "auc_score = roc_auc_score(y_test, predictions, multi_class='ovr')\n",
        "\n",
        "print(auc_score)"
      ]
    },
    {
      "cell_type": "code",
      "source": [
        "# Questions. Why use ROC/AUC?\n",
        "# Should I used PR graph instead?"
      ],
      "metadata": {
        "id": "0gLyJMNW-mp5"
      },
      "id": "0gLyJMNW-mp5",
      "execution_count": null,
      "outputs": []
    },
    {
      "cell_type": "code",
      "source": [
        ""
      ],
      "metadata": {
        "id": "LZNEaMZD_AOJ"
      },
      "id": "LZNEaMZD_AOJ",
      "execution_count": null,
      "outputs": []
    },
    {
      "cell_type": "code",
      "source": [
        ""
      ],
      "metadata": {
        "id": "KefE5JTk_Dbx"
      },
      "id": "KefE5JTk_Dbx",
      "execution_count": null,
      "outputs": []
    }
  ],
  "metadata": {
    "kernelspec": {
      "display_name": "Python 3",
      "language": "python",
      "name": "python3"
    },
    "language_info": {
      "codemirror_mode": {
        "name": "ipython",
        "version": 3
      },
      "file_extension": ".py",
      "mimetype": "text/x-python",
      "name": "python",
      "nbconvert_exporter": "python",
      "pygments_lexer": "ipython3",
      "version": "3.8.8"
    },
    "colab": {
      "name": "Simple_MNIST_CNN.ipynb",
      "provenance": []
    },
    "accelerator": "GPU"
  },
  "nbformat": 4,
  "nbformat_minor": 5
}